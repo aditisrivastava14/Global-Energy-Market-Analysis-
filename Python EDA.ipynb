{
 "cells": [
  {
   "cell_type": "code",
   "execution_count": 1,
   "id": "07032d0e-cd99-4c20-ab81-d2fe4cd253e7",
   "metadata": {},
   "outputs": [],
   "source": [
    "import pandas as pd\n",
    "df = pd.read_excel(\"/Users/aditi/Documents/Apana Time/Data set Apana Time.xlsx\")\n"
   ]
  },
  {
   "cell_type": "code",
   "execution_count": 2,
   "id": "b66e0e70-3b34-4f60-b835-8512284158c0",
   "metadata": {},
   "outputs": [],
   "source": [
    "import numpy as np\n",
    "\n",
    "# Drop the date column for numerical analysis\n",
    "numeric_df = df.select_dtypes(include=[np.number])\n",
    "\n",
    "# Central Tendency\n",
    "mean_values = numeric_df.mean()\n",
    "median_values = numeric_df.median()\n",
    "mode_values = numeric_df.mode().iloc[0]\n",
    "\n",
    "# Dispersion\n",
    "variance_values = numeric_df.var()\n",
    "std_values = numeric_df.std()\n",
    "range_values = numeric_df.max() - numeric_df.min()\n",
    "\n",
    "# Skewness and Kurtosis\n",
    "skewness_values = numeric_df.skew()\n",
    "kurtosis_values = numeric_df.kurtosis()\n",
    "\n",
    "# Combine results\n",
    "eda_summary = pd.DataFrame({\n",
    "    \"Mean\": mean_values,\n",
    "    \"Median\": median_values,\n",
    "    \"Mode\": mode_values,\n",
    "    \"Variance\": variance_values,\n",
    "    \"Std_Deviation\": std_values,\n",
    "    \"Range\": range_values,\n",
    "    \"Skewness\": skewness_values,\n",
    "    \"Kurtosis\": kurtosis_values\n",
    "})\n"
   ]
  },
  {
   "cell_type": "code",
   "execution_count": 3,
   "id": "8310477c-b06a-46c0-afe8-b328d31b07cc",
   "metadata": {},
   "outputs": [
    {
     "name": "stdout",
     "output_type": "stream",
     "text": [
      "                                              Mean       Median         Mode  \\\n",
      "Coal_RB_4800_FOB_London_Close_USD        87.953184     76.19000     33.86000   \n",
      "Coal_RB_5500_FOB_London_Close_USD       113.353155     95.80000     47.56000   \n",
      "Coal_RB_5700_FOB_London_Close_USD       134.971807    108.91000     50.12000   \n",
      "Coal_RB_6000_FOB_CurrentWeek_Avg_USD    144.351494    115.27000    115.27000   \n",
      "Coal_India_5500_CFR_London_Close_USD    123.759710    111.20000     41.81000   \n",
      "Price_WTI                                72.345469     75.67000     78.26000   \n",
      "Price_Brent_Oil                          76.283020     79.96000     72.22000   \n",
      "Price_Dubai_Brent_Oil                    74.752493     78.79000     43.78000   \n",
      "Price_ExxonMobil                         80.871012     86.41000     64.31000   \n",
      "Price_Shenhua                            21.274702     22.32500     24.75000   \n",
      "Price_All_Share                       68736.904811  70089.08500  44598.70000   \n",
      "Price_Mining                          52972.178374  53270.24500  35258.30000   \n",
      "Price_LNG_Japan_Korea_Marker_PLATTS      17.622529     12.90250      2.00000   \n",
      "Price_ZAR_USD                             0.059943      0.05872      0.05273   \n",
      "Price_Natural_Gas                         3.697999      2.86300      2.49200   \n",
      "Price_ICE                               112.756111    111.96000     90.40000   \n",
      "Price_Dutch_TTF                          57.384856     35.83850     13.90000   \n",
      "Price_Indian_en_exg_rate                141.616027    140.90000    145.10000   \n",
      "\n",
      "                                          Variance  Std_Deviation  \\\n",
      "Coal_RB_4800_FOB_London_Close_USD     2.237619e+03      47.303473   \n",
      "Coal_RB_5500_FOB_London_Close_USD     3.982292e+03      63.105405   \n",
      "Coal_RB_5700_FOB_London_Close_USD     6.001971e+03      77.472391   \n",
      "Coal_RB_6000_FOB_CurrentWeek_Avg_USD  6.972281e+03      83.500186   \n",
      "Coal_India_5500_CFR_London_Close_USD  3.192492e+03      56.502138   \n",
      "Price_WTI                             4.245831e+02      20.605415   \n",
      "Price_Brent_Oil                       4.294504e+02      20.723186   \n",
      "Price_Dubai_Brent_Oil                 4.204883e+02      20.505811   \n",
      "Price_ExxonMobil                      7.712787e+02      27.771904   \n",
      "Price_Shenhua                         3.765394e+01       6.136281   \n",
      "Price_All_Share                       6.286333e+07    7928.639789   \n",
      "Price_Mining                          4.952807e+07    7037.617925   \n",
      "Price_LNG_Japan_Korea_Marker_PLATTS   1.617135e+02      12.716663   \n",
      "Price_ZAR_USD                         3.681609e-05       0.006068   \n",
      "Price_Natural_Gas                     3.690917e+00       1.921176   \n",
      "Price_ICE                             1.885030e+02      13.729638   \n",
      "Price_Dutch_TTF                       2.843977e+03      53.328953   \n",
      "Price_Indian_en_exg_rate              2.931929e+03      54.147294   \n",
      "\n",
      "                                            Range  Skewness  Kurtosis  \n",
      "Coal_RB_4800_FOB_London_Close_USD       274.34000  1.312825  2.116484  \n",
      "Coal_RB_5500_FOB_London_Close_USD       325.68000  1.260528  1.127323  \n",
      "Coal_RB_5700_FOB_London_Close_USD       367.66000  1.278061  0.811808  \n",
      "Coal_RB_6000_FOB_CurrentWeek_Avg_USD    383.69000  1.269489  0.717634  \n",
      "Coal_India_5500_CFR_London_Close_USD    271.08000  0.862272  0.176041  \n",
      "Price_WTI                               161.33000 -0.536349  0.808288  \n",
      "Price_Brent_Oil                         108.65000 -0.429634 -0.024637  \n",
      "Price_Dubai_Brent_Oil                   103.46000 -0.560067 -0.038227  \n",
      "Price_ExxonMobil                         90.63000 -0.207440 -1.486695  \n",
      "Price_Shenhua                            28.24000  0.565776  0.020671  \n",
      "Price_All_Share                       36192.66000 -0.820778 -0.119788  \n",
      "Price_Mining                          39927.46000  0.288418 -0.362583  \n",
      "Price_LNG_Japan_Korea_Marker_PLATTS      67.96000  1.084267  0.789421  \n",
      "Price_ZAR_USD                             0.02388  0.347963 -1.217152  \n",
      "Price_Natural_Gas                         8.16500  1.260015  0.660356  \n",
      "Price_ICE                                58.44000  0.222972 -0.876720  \n",
      "Price_Dutch_TTF                         335.68500  1.719477  3.148565  \n",
      "Price_Indian_en_exg_rate                250.23000  0.371277 -0.091080  \n"
     ]
    }
   ],
   "source": [
    "# Display Results\n",
    "print(eda_summary)"
   ]
  },
  {
   "cell_type": "code",
   "execution_count": null,
   "id": "99147770-2b27-4372-be46-2b8fc87c4f40",
   "metadata": {},
   "outputs": [],
   "source": []
  }
 ],
 "metadata": {
  "kernelspec": {
   "display_name": "Python [conda env:base] *",
   "language": "python",
   "name": "conda-base-py"
  },
  "language_info": {
   "codemirror_mode": {
    "name": "ipython",
    "version": 3
   },
   "file_extension": ".py",
   "mimetype": "text/x-python",
   "name": "python",
   "nbconvert_exporter": "python",
   "pygments_lexer": "ipython3",
   "version": "3.13.5"
  }
 },
 "nbformat": 4,
 "nbformat_minor": 5
}
